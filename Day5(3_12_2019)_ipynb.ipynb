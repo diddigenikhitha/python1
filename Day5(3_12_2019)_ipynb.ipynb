{
  "nbformat": 4,
  "nbformat_minor": 0,
  "metadata": {
    "colab": {
      "name": "Day5(3/12/2019)_ipynb",
      "provenance": [],
      "include_colab_link": true
    },
    "kernelspec": {
      "name": "python3",
      "display_name": "Python 3"
    }
  },
  "cells": [
    {
      "cell_type": "markdown",
      "metadata": {
        "id": "view-in-github",
        "colab_type": "text"
      },
      "source": [
        "<a href=\"https://colab.research.google.com/github/diddigenikhitha/python1/blob/master/Day5(3_12_2019)_ipynb.ipynb\" target=\"_parent\"><img src=\"https://colab.research.google.com/assets/colab-badge.svg\" alt=\"Open In Colab\"/></a>"
      ]
    },
    {
      "cell_type": "code",
      "metadata": {
        "id": "faHDW7OQiOB-",
        "colab_type": "code",
        "colab": {}
      },
      "source": [
        ""
      ],
      "execution_count": 0,
      "outputs": []
    },
    {
      "cell_type": "markdown",
      "metadata": {
        "id": "EPhr9FCKo3y6",
        "colab_type": "text"
      },
      "source": [
        "# python programming\n",
        "## python programming\n",
        "### python programming\n",
        "#### python programming\n"
      ]
    },
    {
      "cell_type": "code",
      "metadata": {
        "id": "I06mYRbapUml",
        "colab_type": "code",
        "colab": {}
      },
      "source": [
        ""
      ],
      "execution_count": 0,
      "outputs": []
    },
    {
      "cell_type": "markdown",
      "metadata": {
        "id": "zyTtEjW6qaAj",
        "colab_type": "text"
      },
      "source": [
        "\n",
        "\n",
        "1.   python basic\n",
        "2.   python advance\n",
        "3.   python program\n",
        "\n",
        "\n",
        "\n",
        "\n"
      ]
    },
    {
      "cell_type": "code",
      "metadata": {
        "id": "OFg8hu3Mq5CR",
        "colab_type": "code",
        "colab": {}
      },
      "source": [
        ""
      ],
      "execution_count": 0,
      "outputs": []
    },
    {
      "cell_type": "markdown",
      "metadata": {
        "id": "5eoHO5qkq6ea",
        "colab_type": "text"
      },
      "source": [
        "![image](https://image.shutterstock.com/image-photo/white-transparent-leaf-on-mirror-260nw-1029171697.jpg)"
      ]
    },
    {
      "cell_type": "code",
      "metadata": {
        "id": "t42Egakgrxvx",
        "colab_type": "code",
        "colab": {}
      },
      "source": [
        ""
      ],
      "execution_count": 0,
      "outputs": []
    },
    {
      "cell_type": "markdown",
      "metadata": {
        "id": "z5AEnkS7r1EK",
        "colab_type": "text"
      },
      "source": [
        "[click here](https://www.google.com/)"
      ]
    },
    {
      "cell_type": "code",
      "metadata": {
        "id": "bDjtsNM-sZ4-",
        "colab_type": "code",
        "outputId": "a6b1a9b8-4920-430a-c9e8-33d0ac3eda27",
        "colab": {
          "base_uri": "https://localhost:8080/",
          "height": 34
        }
      },
      "source": [
        "print(\"hello world\")"
      ],
      "execution_count": 0,
      "outputs": [
        {
          "output_type": "stream",
          "text": [
            "hello world\n"
          ],
          "name": "stdout"
        }
      ]
    },
    {
      "cell_type": "code",
      "metadata": {
        "id": "ngfYngKcvuT2",
        "colab_type": "code",
        "outputId": "62be8206-e388-4652-d815-beb1a0544b31",
        "colab": {
          "base_uri": "https://localhost:8080/",
          "height": 51
        }
      },
      "source": [
        "x = 10\n",
        "y = 20\n",
        "print(x + y)\n",
        "print(x - y)"
      ],
      "execution_count": 0,
      "outputs": [
        {
          "output_type": "stream",
          "text": [
            "30\n",
            "-10\n"
          ],
          "name": "stdout"
        }
      ]
    },
    {
      "cell_type": "code",
      "metadata": {
        "id": "qvRxWxsbx7MY",
        "colab_type": "code",
        "outputId": "3430f4e5-c7bc-432e-d874-4aac5c5a02a3",
        "colab": {
          "base_uri": "https://localhost:8080/",
          "height": 68
        }
      },
      "source": [
        "x = int(input(\"enter x value\"))\n",
        "y = int(input(\"enter y value\"))\n",
        "x + y"
      ],
      "execution_count": 0,
      "outputs": [
        {
          "output_type": "stream",
          "text": [
            "enter x value10\n",
            "enter y value20\n"
          ],
          "name": "stdout"
        },
        {
          "output_type": "execute_result",
          "data": {
            "text/plain": [
              "30"
            ]
          },
          "metadata": {
            "tags": []
          },
          "execution_count": 8
        }
      ]
    },
    {
      "cell_type": "code",
      "metadata": {
        "id": "fDjMMe8j1Ntb",
        "colab_type": "code",
        "outputId": "25285cae-1c04-470a-9584-8ddddca36e96",
        "colab": {
          "base_uri": "https://localhost:8080/",
          "height": 68
        }
      },
      "source": [
        "name = input(\"enter your name\")\n",
        "age = int(input(\"enter your age\"))\n",
        "print(\"my name is \",name,end='    ')\n",
        "print(\"my age is \",age)\n"
      ],
      "execution_count": 0,
      "outputs": [
        {
          "output_type": "stream",
          "text": [
            "enter your namenikhitha\n",
            "enter your age20\n",
            "my name is  nikhitha    my age is  20\n"
          ],
          "name": "stdout"
        }
      ]
    },
    {
      "cell_type": "markdown",
      "metadata": {
        "id": "F317IDml6R3H",
        "colab_type": "text"
      },
      "source": [
        "# fundamental datatypes\n",
        "\n",
        "\n",
        "1.  int \n",
        "2.  float\n",
        "3.  complex\n",
        "4. boolean\n",
        "5.  string\n",
        "  \n",
        "\n",
        "\n",
        "\n",
        "\n",
        "\n",
        "\n",
        "\n"
      ]
    },
    {
      "cell_type": "code",
      "metadata": {
        "id": "m9m8r6eD7Jql",
        "colab_type": "code",
        "outputId": "fe25eeff-dea1-4d72-8e32-dd9244edfb82",
        "colab": {
          "base_uri": "https://localhost:8080/",
          "height": 34
        }
      },
      "source": [
        "a = 3\n",
        "b = 2.67\n",
        "c = 5+6j\n",
        "d = 3+5j\n",
        "print(type(a),type(b),type(c))"
      ],
      "execution_count": 0,
      "outputs": [
        {
          "output_type": "stream",
          "text": [
            "<class 'int'> <class 'float'> <class 'complex'>\n"
          ],
          "name": "stdout"
        }
      ]
    },
    {
      "cell_type": "code",
      "metadata": {
        "id": "WWXXwy_Ez7ee",
        "colab_type": "code",
        "outputId": "e3280722-0c47-407a-d68e-1d7e9fd750fe",
        "colab": {
          "base_uri": "https://localhost:8080/",
          "height": 34
        }
      },
      "source": [
        "print(c+d)"
      ],
      "execution_count": 0,
      "outputs": [
        {
          "output_type": "stream",
          "text": [
            "(8+11j)\n"
          ],
          "name": "stdout"
        }
      ]
    },
    {
      "cell_type": "code",
      "metadata": {
        "id": "gc_H40yjAfRk",
        "colab_type": "code",
        "outputId": "092ffb47-8b7d-49c0-826a-f57b44980ee2",
        "colab": {
          "base_uri": "https://localhost:8080/",
          "height": 34
        }
      },
      "source": [
        "str1 = \"GITAM\"\n",
        "str2 = \"University\"\n",
        "str1 + str2"
      ],
      "execution_count": 0,
      "outputs": [
        {
          "output_type": "execute_result",
          "data": {
            "text/plain": [
              "'GITAMUniversity'"
            ]
          },
          "metadata": {
            "tags": []
          },
          "execution_count": 15
        }
      ]
    },
    {
      "cell_type": "code",
      "metadata": {
        "id": "xKy2MpIIBHfT",
        "colab_type": "code",
        "outputId": "07acb9d0-bb6c-4f3f-9afe-d2b36b854fe4",
        "colab": {
          "base_uri": "https://localhost:8080/",
          "height": 34
        }
      },
      "source": [
        "len(str1)"
      ],
      "execution_count": 0,
      "outputs": [
        {
          "output_type": "execute_result",
          "data": {
            "text/plain": [
              "5"
            ]
          },
          "metadata": {
            "tags": []
          },
          "execution_count": 16
        }
      ]
    },
    {
      "cell_type": "code",
      "metadata": {
        "id": "ukcWuksTBqnT",
        "colab_type": "code",
        "outputId": "699b6411-5180-4152-bb78-4c42420a467d",
        "colab": {
          "base_uri": "https://localhost:8080/",
          "height": 34
        }
      },
      "source": [
        "a = 147823456789\n",
        "print(len(str(a)))"
      ],
      "execution_count": 0,
      "outputs": [
        {
          "output_type": "stream",
          "text": [
            "12\n"
          ],
          "name": "stdout"
        }
      ]
    },
    {
      "cell_type": "code",
      "metadata": {
        "id": "Un9PjlKACpCi",
        "colab_type": "code",
        "colab": {}
      },
      "source": [
        ""
      ],
      "execution_count": 0,
      "outputs": []
    },
    {
      "cell_type": "code",
      "metadata": {
        "id": "m7BnttdpED0q",
        "colab_type": "code",
        "outputId": "5be8fde9-80d2-4b95-e923-41e2878b37e6",
        "colab": {
          "base_uri": "https://localhost:8080/",
          "height": 34
        }
      },
      "source": [
        "result = 10<20\n",
        "print(result,type(result))"
      ],
      "execution_count": 0,
      "outputs": [
        {
          "output_type": "stream",
          "text": [
            "True <class 'bool'>\n"
          ],
          "name": "stdout"
        }
      ]
    },
    {
      "cell_type": "markdown",
      "metadata": {
        "id": "UMrrYc3lDsBN",
        "colab_type": "text"
      },
      "source": [
        "# Operators\n",
        "\n",
        "1. Arithmetic operator (+,-,*,**,%,//,/)  \n",
        "2. Logical operator (and,or,not)\n",
        "3. Relational operator (==,<=,>=,)  \n",
        "4. Membership operator \n",
        "\n",
        "\n",
        "\n",
        "\n",
        "\n",
        "\n",
        "\n",
        "\n",
        "\n",
        "\n",
        "\n",
        "\n"
      ]
    },
    {
      "cell_type": "code",
      "metadata": {
        "id": "jIR-6lSUGP79",
        "colab_type": "code",
        "outputId": "13864b70-0b15-4a5a-e7bb-76626f8770de",
        "colab": {
          "base_uri": "https://localhost:8080/",
          "height": 136
        }
      },
      "source": [
        "a = 12\n",
        "b = 23\n",
        "print(a+b)\n",
        "print(a-b)\n",
        "print(a*b)\n",
        "print(a%b)\n",
        "print(a/b)\n",
        "print(a//b)\n",
        "print(a**b)"
      ],
      "execution_count": 0,
      "outputs": [
        {
          "output_type": "stream",
          "text": [
            "35\n",
            "-11\n",
            "276\n",
            "12\n",
            "0.5217391304347826\n",
            "0\n",
            "6624737266949237011120128\n"
          ],
          "name": "stdout"
        }
      ]
    },
    {
      "cell_type": "code",
      "metadata": {
        "id": "EDk0GTDKGlqF",
        "colab_type": "code",
        "outputId": "d720dae0-7616-4b8d-afdf-01d49f313059",
        "colab": {
          "base_uri": "https://localhost:8080/",
          "height": 68
        }
      },
      "source": [
        "# logical operators\n",
        "i = 10\n",
        "j = 20\n",
        "print(i>1 and i<20)\n",
        "print(i>12 or i<33)\n",
        "print(not i)"
      ],
      "execution_count": 0,
      "outputs": [
        {
          "output_type": "stream",
          "text": [
            "True\n",
            "True\n",
            "False\n"
          ],
          "name": "stdout"
        }
      ]
    },
    {
      "cell_type": "code",
      "metadata": {
        "id": "608wkbgIK4wb",
        "colab_type": "code",
        "outputId": "3fed4ef8-53eb-4ffb-e1c8-ae22ab70efde",
        "colab": {
          "base_uri": "https://localhost:8080/",
          "height": 119
        }
      },
      "source": [
        "# relational operators\n",
        "print(i==j)\n",
        "print(i !=j)\n",
        "print(i>j)\n",
        "print(i<j)\n",
        "print(i>=j)\n",
        "print(i<=j)"
      ],
      "execution_count": 0,
      "outputs": [
        {
          "output_type": "stream",
          "text": [
            "False\n",
            "True\n",
            "False\n",
            "True\n",
            "False\n",
            "True\n"
          ],
          "name": "stdout"
        }
      ]
    },
    {
      "cell_type": "code",
      "metadata": {
        "id": "N23EAFtgMWJN",
        "colab_type": "code",
        "outputId": "2ccd57e5-633c-4512-d68b-d93f495aae9a",
        "colab": {
          "base_uri": "https://localhost:8080/",
          "height": 51
        }
      },
      "source": [
        "# membership operators\n",
        "str1 = 'gitam'\n",
        "print('z' in str1)\n",
        "print('z' not in str1 )"
      ],
      "execution_count": 0,
      "outputs": [
        {
          "output_type": "stream",
          "text": [
            "False\n",
            "True\n"
          ],
          "name": "stdout"
        }
      ]
    },
    {
      "cell_type": "code",
      "metadata": {
        "id": "jinJH1KbNuMS",
        "colab_type": "code",
        "colab": {}
      },
      "source": [
        ""
      ],
      "execution_count": 0,
      "outputs": []
    },
    {
      "cell_type": "markdown",
      "metadata": {
        "id": "U1j38T1AOZk_",
        "colab_type": "text"
      },
      "source": [
        "Conditional statements\n",
        "\n",
        "1.   if\n",
        "2.  else\n",
        "3.   elif\n",
        "# syntax:\n",
        "if condition:\n",
        "  statements\n",
        "  else:\n",
        "    statements"
      ]
    },
    {
      "cell_type": "code",
      "metadata": {
        "id": "3w9KO1HvOz6C",
        "colab_type": "code",
        "colab": {}
      },
      "source": [
        "# syntax:\n",
        "if condition:\n",
        "  statements\n",
        "  else:\n",
        "    statements\n"
      ],
      "execution_count": 0,
      "outputs": []
    },
    {
      "cell_type": "code",
      "metadata": {
        "id": "ZGejZgsLQz10",
        "colab_type": "code",
        "outputId": "4a2df353-2d31-406a-849c-6ecc61b6741c",
        "colab": {
          "base_uri": "https://localhost:8080/",
          "height": 51
        }
      },
      "source": [
        "#to check given number is even or odd\n",
        "n = int(input(\"enter any number\"))\n",
        "if n%2==0:\n",
        "  print('even')\n",
        "else:\n",
        "   print('odd')"
      ],
      "execution_count": 0,
      "outputs": [
        {
          "output_type": "stream",
          "text": [
            "enter any number20\n",
            "even\n"
          ],
          "name": "stdout"
        }
      ]
    },
    {
      "cell_type": "code",
      "metadata": {
        "id": "vN1ZCpu3Rfte",
        "colab_type": "code",
        "colab": {}
      },
      "source": [
        ""
      ],
      "execution_count": 0,
      "outputs": []
    }
  ]
}