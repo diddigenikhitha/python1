{
  "nbformat": 4,
  "nbformat_minor": 0,
  "metadata": {
    "colab": {
      "name": "Day 6(4/12/2019)",
      "provenance": [],
      "include_colab_link": true
    },
    "kernelspec": {
      "name": "python3",
      "display_name": "Python 3"
    }
  },
  "cells": [
    {
      "cell_type": "markdown",
      "metadata": {
        "id": "view-in-github",
        "colab_type": "text"
      },
      "source": [
        "<a href=\"https://colab.research.google.com/github/diddigenikhitha/python1/blob/master/Day_6(4_12_2019).ipynb\" target=\"_parent\"><img src=\"https://colab.research.google.com/assets/colab-badge.svg\" alt=\"Open In Colab\"/></a>"
      ]
    },
    {
      "cell_type": "code",
      "metadata": {
        "id": "7b4pT26qrUl1",
        "colab_type": "code",
        "outputId": "4010691d-d10f-416a-9e7a-b70e4ac16d8a",
        "colab": {
          "base_uri": "https://localhost:8080/",
          "height": 51
        }
      },
      "source": [
        "# Accept a number and check weather the given number \n",
        "# is divisible by 3 and 5\n",
        "n = int(input(\"enter a number\"))\n",
        "if (n%3==0) and (n%5==0):\n",
        "  print(\"the number is divisible by 3 and 5\")\n",
        "else:\n",
        "  print(\"the number is not divisible by 3 and 5\")"
      ],
      "execution_count": 0,
      "outputs": [
        {
          "output_type": "stream",
          "text": [
            "enter a number25\n",
            "the number is not divisible by 3 and 5\n"
          ],
          "name": "stdout"
        }
      ]
    },
    {
      "cell_type": "code",
      "metadata": {
        "id": "vJ8OE3QxwuFz",
        "colab_type": "code",
        "outputId": "8f483c9d-1025-4dfa-e2ab-15ae339f3da1",
        "colab": {
          "base_uri": "https://localhost:8080/",
          "height": 51
        }
      },
      "source": [
        "# accept a number weather it is positive, negative,and zero\n",
        "n = int(input(\"emter a number\"))\n",
        "if n<0:\n",
        "   print(\"the number is negative\")\n",
        "elif n==0:\n",
        "   print(\"the number is zero\")\n",
        "else: \n",
        "   print(\"the number is positive\")      "
      ],
      "execution_count": 0,
      "outputs": [
        {
          "output_type": "stream",
          "text": [
            "emter a number5\n",
            "the number is positive\n"
          ],
          "name": "stdout"
        }
      ]
    },
    {
      "cell_type": "code",
      "metadata": {
        "id": "1LS5ZwRB0WFE",
        "colab_type": "code",
        "outputId": "2c17f1a3-072f-4c50-8e79-a803326fc370",
        "colab": {
          "base_uri": "https://localhost:8080/",
          "height": 51
        }
      },
      "source": [
        "# accept the age of a person and check weather the person is eligible to vote or not\n",
        "age = int(input(\"enter a age\"))\n",
        "if age >= 18:\n",
        "  print(\"the person is eligible\")\n",
        "else:\n",
        "  print(\"the person is not eligible\")\n",
        "\n",
        "\n",
        "\n"
      ],
      "execution_count": 0,
      "outputs": [
        {
          "output_type": "stream",
          "text": [
            "enter a age20\n",
            "the person is eligible\n"
          ],
          "name": "stdout"
        }
      ]
    },
    {
      "cell_type": "markdown",
      "metadata": {
        "id": "MtIBgM3CyT0i",
        "colab_type": "text"
      },
      "source": [
        "accept 3 subjects marks of the student if te student minimum 30 marks in all the subjects than findout the average else print fail on the screen.\n",
        "1.if average is >75 print A grade\n",
        "2.if average is >65.75 print B grade\n",
        "3.if average is >45.65 print C grade\n",
        "4.if average is >30.45 print D grade\n",
        "5.if average is <30 print FAIL\n",
        "\n",
        "\n",
        "\n",
        "\n",
        "\n",
        "\n",
        "\n",
        "\n"
      ]
    },
    {
      "cell_type": "code",
      "metadata": {
        "id": "ldtgNicozzxb",
        "colab_type": "code",
        "outputId": "703a89d4-ed0d-4780-9382-42f3d66719de",
        "colab": {
          "base_uri": "https://localhost:8080/",
          "height": 102
        }
      },
      "source": [
        "x = int(input(\"enter sub-1 marks\"))\n",
        "y = int(input(\"enter sub-2 marks\"))\n",
        "z = int(input(\"enter sub-3 marks\"))\n",
        "avg = 0\n",
        "if x >= 30 and y >= 30 and z >=30:\n",
        "  avg = avg+(x+y+z)/3\n",
        "  print(avg)\n",
        "if avg>75:\n",
        "  print(\"Grade A\")\n",
        "elif 65<avg <= 75:\n",
        "  print(\"Grade B\")\n",
        "elif 45<avg <= 65:\n",
        "  print(\"Grade C\")\n",
        "elif 30<avg <= 45:\n",
        "  print(\"Grade D\")\n",
        "else :\n",
        "  print(\"fail\")    "
      ],
      "execution_count": 0,
      "outputs": [
        {
          "output_type": "stream",
          "text": [
            "enter sub-1 marks90\n",
            "enter sub-2 marks99\n",
            "enter sub-3 marks98\n",
            "95.66666666666667\n",
            "Grade A\n"
          ],
          "name": "stdout"
        }
      ]
    },
    {
      "cell_type": "markdown",
      "metadata": {
        "id": "oJ1nZO9Kz_zs",
        "colab_type": "text"
      },
      "source": [
        "LOOPS\n",
        "\n",
        "1.   while loop\n",
        "2.   for loop\n",
        "\n"
      ]
    },
    {
      "cell_type": "code",
      "metadata": {
        "id": "_Ny4skWx0L1B",
        "colab_type": "code",
        "outputId": "712c817e-ff2b-403f-e03a-7ed9051791e7",
        "colab": {
          "base_uri": "https://localhost:8080/",
          "height": 51
        }
      },
      "source": [
        "# print number from 1 to N\n",
        "n = int(input(\"enter a number\"))\n",
        "i = 1\n",
        "while i <= n:\n",
        "   print(i, end=\" \")\n",
        "   i = i + 1"
      ],
      "execution_count": 0,
      "outputs": [
        {
          "output_type": "stream",
          "text": [
            "enter a number20\n",
            "1 2 3 4 5 6 7 8 9 10 11 12 13 14 15 16 17 18 19 20 "
          ],
          "name": "stdout"
        }
      ]
    },
    {
      "cell_type": "code",
      "metadata": {
        "id": "lobuKQ6a1B1c",
        "colab_type": "code",
        "outputId": "bff64b4a-564a-4af6-c0db-4029c08dd19f",
        "colab": {
          "base_uri": "https://localhost:8080/",
          "height": 51
        }
      },
      "source": [
        "# print all natural even numbers form 1 to N\n",
        "n = int(input(\"enter a number\"))\n",
        "i = 1\n",
        "while i <= n:\n",
        "   if i % 2 == 0:\n",
        "      print(i, end=\" \")\n",
        "   i = i + 1"
      ],
      "execution_count": 0,
      "outputs": [
        {
          "output_type": "stream",
          "text": [
            "enter a number20\n",
            "2 4 6 8 10 12 14 16 18 20 "
          ],
          "name": "stdout"
        }
      ]
    },
    {
      "cell_type": "code",
      "metadata": {
        "id": "I_aa1l7o3PA_",
        "colab_type": "code",
        "outputId": "8d858ce3-444c-4060-e1c7-4fe182029902",
        "colab": {
          "base_uri": "https://localhost:8080/",
          "height": 51
        }
      },
      "source": [
        "# print sum of even numbers fron 1 to N\n",
        "n = int(input(\"enter a number\"))\n",
        "i = 1\n",
        "sum = 0\n",
        "while i <= n:\n",
        "  if i % 2 == 0:\n",
        "    sum+=i\n",
        "  i = i + 1\n",
        "print(sum)\n",
        "  "
      ],
      "execution_count": 0,
      "outputs": [
        {
          "output_type": "stream",
          "text": [
            "enter a number10\n",
            "30\n"
          ],
          "name": "stdout"
        }
      ]
    },
    {
      "cell_type": "code",
      "metadata": {
        "id": "SEHLuBpt5GAq",
        "colab_type": "code",
        "outputId": "35421abf-98d1-4028-9100-c48129926d5b",
        "colab": {
          "base_uri": "https://localhost:8080/",
          "height": 51
        }
      },
      "source": [
        "# extracting the digits from given number\n",
        "# input----> 546\n",
        "# output---> 6 4 5\n",
        "n = int(input(\"enter a number\"))\n",
        "rev = 0\n",
        "temp = n\n",
        "while n!=0:\n",
        "   r = n%10\n",
        "   rev = rev*10+r\n",
        "   n = n//10\n",
        "if rev == temp:\n",
        "   print(\"palindrome\")\n",
        "else:\n",
        "   print(\"not palindrome\")"
      ],
      "execution_count": 0,
      "outputs": [
        {
          "output_type": "stream",
          "text": [
            "enter a number222\n",
            "palindrome\n"
          ],
          "name": "stdout"
        }
      ]
    },
    {
      "cell_type": "code",
      "metadata": {
        "id": "LMtNZl4rwNi7",
        "colab_type": "code",
        "outputId": "ed8fcb30-9b0e-4800-da0f-03a8270c0e47",
        "colab": {
          "base_uri": "https://localhost:8080/",
          "height": 51
        }
      },
      "source": [
        "# print factors of given no.\n",
        "n = int(input(\"enter a value\"))\n",
        "i = 1\n",
        "while i <= n:\n",
        "  if n%i == 0:\n",
        "    print(i, end=\" \")\n",
        "  i=i+1"
      ],
      "execution_count": 0,
      "outputs": [
        {
          "output_type": "stream",
          "text": [
            "enter a value6\n",
            "1 2 3 6 "
          ],
          "name": "stdout"
        }
      ]
    },
    {
      "cell_type": "code",
      "metadata": {
        "id": "Xj1VEa_WwL7P",
        "colab_type": "code",
        "outputId": "d5291a2a-cf40-4d0c-9bc3-71347647a8f8",
        "colab": {
          "base_uri": "https://localhost:8080/",
          "height": 51
        }
      },
      "source": [
        "# amstrong no.\n",
        "n = int(input(\"enter a value\"))\n",
        "sum = 0\n",
        "temp = n\n",
        "while n!=0:\n",
        "  i=n%10\n",
        "  sum = sum+(i**3)\n",
        "  n=n//10\n",
        "if sum == temp:\n",
        "  print(\"amstrong\")\n",
        "else :\n",
        "  print(\"not amstrong\") "
      ],
      "execution_count": 0,
      "outputs": [
        {
          "output_type": "stream",
          "text": [
            "enter a value153\n",
            "amstrong\n"
          ],
          "name": "stdout"
        }
      ]
    },
    {
      "cell_type": "code",
      "metadata": {
        "id": "ZEsy4i6C8aZN",
        "colab_type": "code",
        "outputId": "b1217e2e-db44-43cf-d0ac-b1b64bba1c71",
        "colab": {
          "base_uri": "https://localhost:8080/",
          "height": 119
        }
      },
      "source": [
        "# print numbers form 1 to N using forloop\n",
        "n = int(input(\"enter any number\"))\n",
        "for i in range(1,n+1,2):\n",
        "  print(i)"
      ],
      "execution_count": 0,
      "outputs": [
        {
          "output_type": "stream",
          "text": [
            "enter any number10\n",
            "1\n",
            "3\n",
            "5\n",
            "7\n",
            "9\n"
          ],
          "name": "stdout"
        }
      ]
    },
    {
      "cell_type": "code",
      "metadata": {
        "id": "cIrRRXxaByBe",
        "colab_type": "code",
        "outputId": "818c035d-c32b-4c64-ad93-60ab5e692a7d",
        "colab": {
          "base_uri": "https://localhost:8080/",
          "height": 136
        }
      },
      "source": [
        "n = int(input(\"enter any number\"))\n",
        "for i in range(0,n+1,2):\n",
        "   print(i)"
      ],
      "execution_count": 0,
      "outputs": [
        {
          "output_type": "stream",
          "text": [
            "enter any number10\n",
            "0\n",
            "2\n",
            "4\n",
            "6\n",
            "8\n",
            "10\n"
          ],
          "name": "stdout"
        }
      ]
    },
    {
      "cell_type": "code",
      "metadata": {
        "id": "NjwTnXSgDldR",
        "colab_type": "code",
        "outputId": "44b8deca-aa8d-4bda-ac67-7084789adf12",
        "colab": {
          "base_uri": "https://localhost:8080/",
          "height": 136
        }
      },
      "source": [
        "n = input(\"enter your name\")\n",
        "for i in n:\n",
        "  print(i)"
      ],
      "execution_count": 0,
      "outputs": [
        {
          "output_type": "stream",
          "text": [
            "enter your namepython\n",
            "p\n",
            "y\n",
            "t\n",
            "h\n",
            "o\n",
            "n\n"
          ],
          "name": "stdout"
        }
      ]
    },
    {
      "cell_type": "code",
      "metadata": {
        "id": "RGkX69orFPbQ",
        "colab_type": "code",
        "outputId": "40d96372-ed7e-4591-d748-0f22c7e90607",
        "colab": {
          "base_uri": "https://localhost:8080/",
          "height": 119
        }
      },
      "source": [
        "n = input(\"enter any string\")\n",
        "length = len(n)\n",
        "i=0\n",
        "while i<length:\n",
        "  print(n[i])\n",
        "  i = i+1"
      ],
      "execution_count": 0,
      "outputs": [
        {
          "output_type": "stream",
          "text": [
            "enter any stringGitam\n",
            "G\n",
            "i\n",
            "t\n",
            "a\n",
            "m\n"
          ],
          "name": "stdout"
        }
      ]
    },
    {
      "cell_type": "markdown",
      "metadata": {
        "id": "KykxCBgYHKsk",
        "colab_type": "text"
      },
      "source": [
        "# FUNCTIONS\n",
        "\n"
      ]
    },
    {
      "cell_type": "code",
      "metadata": {
        "id": "5JQp2XuuGPYR",
        "colab_type": "code",
        "outputId": "c122d445-a7c1-486f-a974-3d21c9130083",
        "colab": {
          "base_uri": "https://localhost:8080/",
          "height": 34
        }
      },
      "source": [
        "# function\n",
        "def add(x,y):\n",
        "  return x+y\n",
        "add(10,20)"
      ],
      "execution_count": 0,
      "outputs": [
        {
          "output_type": "execute_result",
          "data": {
            "text/plain": [
              "30"
            ]
          },
          "metadata": {
            "tags": []
          },
          "execution_count": 29
        }
      ]
    }
  ]
}