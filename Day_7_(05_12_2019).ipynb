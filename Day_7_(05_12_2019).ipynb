{
  "nbformat": 4,
  "nbformat_minor": 0,
  "metadata": {
    "colab": {
      "name": "Day 7 (05/12/2019)",
      "provenance": [],
      "include_colab_link": true
    },
    "kernelspec": {
      "name": "python3",
      "display_name": "Python 3"
    }
  },
  "cells": [
    {
      "cell_type": "markdown",
      "metadata": {
        "id": "view-in-github",
        "colab_type": "text"
      },
      "source": [
        "<a href=\"https://colab.research.google.com/github/diddigenikhitha/python1/blob/master/Day_7_(05_12_2019).ipynb\" target=\"_parent\"><img src=\"https://colab.research.google.com/assets/colab-badge.svg\" alt=\"Open In Colab\"/></a>"
      ]
    },
    {
      "cell_type": "code",
      "metadata": {
        "id": "cIMHMLaQ06zN",
        "colab_type": "code",
        "outputId": "d90e7542-f555-49bc-d8c9-ae9f93a70e0e",
        "colab": {
          "base_uri": "https://localhost:8080/",
          "height": 34
        }
      },
      "source": [
        "# print sum of even number using function\n",
        "def even_sum(n):\n",
        "  sum = 0\n",
        "  for i in range(1,n+1):\n",
        "    if i%2 == 0:\n",
        "      sum+=i\n",
        "  return sum\n",
        "even_sum(30)"
      ],
      "execution_count": 0,
      "outputs": [
        {
          "output_type": "execute_result",
          "data": {
            "text/plain": [
              "240"
            ]
          },
          "metadata": {
            "tags": []
          },
          "execution_count": 3
        }
      ]
    },
    {
      "cell_type": "code",
      "metadata": {
        "id": "FAUPpkVi3BYr",
        "colab_type": "code",
        "outputId": "709c3d42-f14e-4987-c7b6-313edb4715a2",
        "colab": {
          "base_uri": "https://localhost:8080/",
          "height": 51
        }
      },
      "source": [
        "# finding factorial of a number using functions\n",
        "def factorial(n):\n",
        "  f = 1\n",
        "  for i in range(1,n+1):\n",
        "    f = f*i\n",
        "  print(f)\n",
        "  #return f\n",
        "(factorial(5))\n",
        "(factorial(10))\n"
      ],
      "execution_count": 0,
      "outputs": [
        {
          "output_type": "stream",
          "text": [
            "120\n",
            "3628800\n"
          ],
          "name": "stdout"
        }
      ]
    },
    {
      "cell_type": "markdown",
      "metadata": {
        "id": "-hCVlziE-c25",
        "colab_type": "text"
      },
      "source": [
        "# Collection of Datatypes\n",
        "\n",
        "1.   list---> x=[10,20,30]\n",
        "         list is mutable\n",
        "         list has indexed\n",
        "         list has ordered\n",
        "         list holds hetergenous\n",
        "2.   tuple--->  x=[56,67,67]\n",
        "          tuples are immutable\n",
        "3.   dictionary---> {key2:value1,key2:value2,....}\n",
        "          key should be unique and immutable\n",
        "   \n",
        "\n",
        "\n",
        "\n"
      ]
    },
    {
      "cell_type": "code",
      "metadata": {
        "id": "d8flGasT-vAQ",
        "colab_type": "code",
        "outputId": "b10e8fac-6ac9-4b25-a45a-0d631aede7cc",
        "colab": {
          "base_uri": "https://localhost:8080/",
          "height": 34
        }
      },
      "source": [
        "# collection datatypes\n",
        "x = 10,20,30\n",
        "type(x)\n"
      ],
      "execution_count": 0,
      "outputs": [
        {
          "output_type": "execute_result",
          "data": {
            "text/plain": [
              "tuple"
            ]
          },
          "metadata": {
            "tags": []
          },
          "execution_count": 12
        }
      ]
    },
    {
      "cell_type": "code",
      "metadata": {
        "id": "4FJPCZuQ-6SP",
        "colab_type": "code",
        "outputId": "435e0a9e-4362-4f5f-ab26-ec61582244de",
        "colab": {
          "base_uri": "https://localhost:8080/",
          "height": 51
        }
      },
      "source": [
        "#LIST\n",
        "## adding method\n",
        "x = [10,20,30]\n",
        "x.append(40)  \n",
        "x.append(50)\n",
        "x[2]=100\n",
        "print(x)\n",
        "del x[2]\n",
        "print(x)\n"
      ],
      "execution_count": 0,
      "outputs": [
        {
          "output_type": "stream",
          "text": [
            "[10, 20, 100, 40, 50]\n",
            "[10, 20, 40, 50]\n"
          ],
          "name": "stdout"
        }
      ]
    },
    {
      "cell_type": "code",
      "metadata": {
        "id": "2oiMpOQwCrRR",
        "colab_type": "code",
        "outputId": "5abf2050-8c46-4cdb-f94b-4609944e4af8",
        "colab": {
          "base_uri": "https://localhost:8080/",
          "height": 34
        }
      },
      "source": [
        "# insert method\n",
        "x.insert(2,200)\n",
        "x"
      ],
      "execution_count": 0,
      "outputs": [
        {
          "output_type": "execute_result",
          "data": {
            "text/plain": [
              "[10, 20, 200, 40, 50]"
            ]
          },
          "metadata": {
            "tags": []
          },
          "execution_count": 24
        }
      ]
    },
    {
      "cell_type": "code",
      "metadata": {
        "id": "WCjxj49iECIL",
        "colab_type": "code",
        "outputId": "b01010fd-7a8a-4ff8-9d8f-aa2f87fd9c2f",
        "colab": {
          "base_uri": "https://localhost:8080/",
          "height": 34
        }
      },
      "source": [
        "# extend method\n",
        "x.extend([1,2,3])\n",
        "print(x)"
      ],
      "execution_count": 0,
      "outputs": [
        {
          "output_type": "stream",
          "text": [
            "[10, 20, 200, 40, 50, 1, 2, 3, 1, 2, 3, 1, 2, 3]\n"
          ],
          "name": "stdout"
        }
      ]
    },
    {
      "cell_type": "code",
      "metadata": {
        "id": "XB_4yW_UEfsA",
        "colab_type": "code",
        "outputId": "6ef86d72-8686-4547-ccc0-2960bfa9d936",
        "colab": {
          "base_uri": "https://localhost:8080/",
          "height": 34
        }
      },
      "source": [
        "# pop method\n",
        "x.pop(0)\n",
        "print(x)"
      ],
      "execution_count": 0,
      "outputs": [
        {
          "output_type": "stream",
          "text": [
            "[20, 200, 40, 50, 1, 2, 3, 1, 2, 3, 1, 2]\n"
          ],
          "name": "stdout"
        }
      ]
    },
    {
      "cell_type": "code",
      "metadata": {
        "id": "A2k-KnrIFKN7",
        "colab_type": "code",
        "outputId": "355b36d2-2d61-49d0-9012-53d8d7ff9fb6",
        "colab": {
          "base_uri": "https://localhost:8080/",
          "height": 34
        }
      },
      "source": [
        "# remove method\n",
        "x.remove(20)\n",
        "print(x)"
      ],
      "execution_count": 0,
      "outputs": [
        {
          "output_type": "stream",
          "text": [
            "[200, 40, 50, 1, 2, 3, 1, 2, 3, 1, 2]\n"
          ],
          "name": "stdout"
        }
      ]
    },
    {
      "cell_type": "code",
      "metadata": {
        "id": "U29IzJDQFtG1",
        "colab_type": "code",
        "outputId": "9a9ca784-00d7-4be6-f1b0-133c2ea7ba55",
        "colab": {
          "base_uri": "https://localhost:8080/",
          "height": 34
        }
      },
      "source": [
        "# clear method\n",
        "x.clear()\n",
        "print(x)"
      ],
      "execution_count": 0,
      "outputs": [
        {
          "output_type": "stream",
          "text": [
            "[]\n"
          ],
          "name": "stdout"
        }
      ]
    },
    {
      "cell_type": "code",
      "metadata": {
        "id": "z3ChaB2fGPmv",
        "colab_type": "code",
        "outputId": "44e941ef-7e57-41e8-a1bd-110e10c0e328",
        "colab": {
          "base_uri": "https://localhost:8080/",
          "height": 34
        }
      },
      "source": [
        "# index method\n",
        "x=[10,20,10,30]\n",
        "x.index(100)"
      ],
      "execution_count": 0,
      "outputs": [
        {
          "output_type": "execute_result",
          "data": {
            "text/plain": [
              "2"
            ]
          },
          "metadata": {
            "tags": []
          },
          "execution_count": 32
        }
      ]
    },
    {
      "cell_type": "code",
      "metadata": {
        "id": "61x-Nn5jHPOA",
        "colab_type": "code",
        "outputId": "14a68d42-7e1e-4e7e-c876-7aee0c52a303",
        "colab": {
          "base_uri": "https://localhost:8080/",
          "height": 34
        }
      },
      "source": [
        "# sort method (ascending order)\n",
        "x.sort()\n",
        "print(x)"
      ],
      "execution_count": 0,
      "outputs": [
        {
          "output_type": "stream",
          "text": [
            "[10, 20, 30, 100]\n"
          ],
          "name": "stdout"
        }
      ]
    },
    {
      "cell_type": "code",
      "metadata": {
        "id": "XI1qlO-jIXZK",
        "colab_type": "code",
        "outputId": "2f8003ca-87a4-4530-a81c-37c3d057cd69",
        "colab": {
          "base_uri": "https://localhost:8080/",
          "height": 34
        }
      },
      "source": [
        "# (decending order)\n",
        "x.sort(reverse=True)\n",
        "print(x)"
      ],
      "execution_count": 0,
      "outputs": [
        {
          "output_type": "stream",
          "text": [
            "[100, 30, 20, 10]\n"
          ],
          "name": "stdout"
        }
      ]
    },
    {
      "cell_type": "code",
      "metadata": {
        "id": "Q4R7RFF-I2Dh",
        "colab_type": "code",
        "outputId": "3f6c8aef-91de-4668-addc-f3bacb50b015",
        "colab": {
          "base_uri": "https://localhost:8080/",
          "height": 34
        }
      },
      "source": [
        "# reverse method\n",
        "x.reverse()\n",
        "print(x)"
      ],
      "execution_count": 0,
      "outputs": [
        {
          "output_type": "stream",
          "text": [
            "[10, 20, 30, 100]\n"
          ],
          "name": "stdout"
        }
      ]
    },
    {
      "cell_type": "code",
      "metadata": {
        "id": "vB22aaawJkqf",
        "colab_type": "code",
        "outputId": "76ff84df-ebce-41b0-fec8-9bce62e639a9",
        "colab": {
          "base_uri": "https://localhost:8080/",
          "height": 34
        }
      },
      "source": [
        "# create a list with different values if the value is even then print square of that value\n",
        "x = [10,15,20,25,30]\n",
        "for i in x:\n",
        "  if i%2 == 0:\n",
        "    print(i**2,end=\" \")\n",
        "  "
      ],
      "execution_count": 0,
      "outputs": [
        {
          "output_type": "stream",
          "text": [
            "100 400 900 "
          ],
          "name": "stdout"
        }
      ]
    },
    {
      "cell_type": "code",
      "metadata": {
        "id": "Y84vGcvUKprA",
        "colab_type": "code",
        "outputId": "4ebf1ddf-2645-4cd0-9335-a06f442b006d",
        "colab": {
          "base_uri": "https://localhost:8080/",
          "height": 34
        }
      },
      "source": [
        "# even using function\n",
        "def even(x):\n",
        "  for i in x:\n",
        "    if i%2 == 0:\n",
        "      print(i**2,end=\" \")\n",
        "even([11,21,30,40,50])\n",
        "even([5,6,7,8])\n"
      ],
      "execution_count": 0,
      "outputs": [
        {
          "output_type": "stream",
          "text": [
            "900 1600 2500 36 64 "
          ],
          "name": "stdout"
        }
      ]
    },
    {
      "cell_type": "markdown",
      "metadata": {
        "id": "EoxlhIy3PDSg",
        "colab_type": "text"
      },
      "source": [
        "HW\n",
        "# accept the marks of 6 subjects and print sum of the marks in the list"
      ]
    },
    {
      "cell_type": "code",
      "metadata": {
        "id": "FDqYD1nWO4sl",
        "colab_type": "code",
        "outputId": "ffa95a47-9eb8-4b85-cb04-cfa937b4dc94",
        "colab": {
          "base_uri": "https://localhost:8080/",
          "height": 34
        }
      },
      "source": [
        "# TUPLE\n",
        "tuple1 = (56,67,67)\n",
        "print(tuple1)\n"
      ],
      "execution_count": 0,
      "outputs": [
        {
          "output_type": "stream",
          "text": [
            "(56, 67, 67)\n"
          ],
          "name": "stdout"
        }
      ]
    },
    {
      "cell_type": "code",
      "metadata": {
        "id": "I83FrNOAQAT8",
        "colab_type": "code",
        "outputId": "eb119583-83a1-45c2-d274-f74898cfceb6",
        "colab": {
          "base_uri": "https://localhost:8080/",
          "height": 34
        }
      },
      "source": [
        "# count method\n",
        "tuple1.count(67)\n",
        "#print(tuple1)"
      ],
      "execution_count": 0,
      "outputs": [
        {
          "output_type": "execute_result",
          "data": {
            "text/plain": [
              "2"
            ]
          },
          "metadata": {
            "tags": []
          },
          "execution_count": 47
        }
      ]
    },
    {
      "cell_type": "code",
      "metadata": {
        "id": "S95DSJboQapP",
        "colab_type": "code",
        "outputId": "e52c1313-0d92-43da-d084-95a32abf2ce1",
        "colab": {
          "base_uri": "https://localhost:8080/",
          "height": 34
        }
      },
      "source": [
        "# index method\n",
        "tuple1.index(67)\n",
        "#print(tuple1)"
      ],
      "execution_count": 0,
      "outputs": [
        {
          "output_type": "execute_result",
          "data": {
            "text/plain": [
              "1"
            ]
          },
          "metadata": {
            "tags": []
          },
          "execution_count": 48
        }
      ]
    },
    {
      "cell_type": "code",
      "metadata": {
        "id": "UUQB1PGrRrm9",
        "colab_type": "code",
        "outputId": "98ef3a9e-a5c4-4fe6-91d6-3d0779e7b787",
        "colab": {
          "base_uri": "https://localhost:8080/",
          "height": 34
        }
      },
      "source": [
        "# DICTIONARY\n",
        "dict1={\"name\":\"nikhitha\",\"age\":\"20\",\"address\":\"srd\"}\n",
        "dict1['age']"
      ],
      "execution_count": 0,
      "outputs": [
        {
          "output_type": "execute_result",
          "data": {
            "text/plain": [
              "'20'"
            ]
          },
          "metadata": {
            "tags": []
          },
          "execution_count": 49
        }
      ]
    },
    {
      "cell_type": "code",
      "metadata": {
        "id": "YbwkNkVVS6C_",
        "colab_type": "code",
        "outputId": "ad0cf5eb-8b00-43f1-a013-e3256dfc2437",
        "colab": {
          "base_uri": "https://localhost:8080/",
          "height": 34
        }
      },
      "source": [
        "# include course\n",
        "dict1['course']=\"python\"\n",
        "print(dict1)"
      ],
      "execution_count": 0,
      "outputs": [
        {
          "output_type": "stream",
          "text": [
            "{'name': 'nikhitha', 'age': '20', 'address': 'srd', 'course': 'python'}\n"
          ],
          "name": "stdout"
        }
      ]
    },
    {
      "cell_type": "code",
      "metadata": {
        "id": "StBsBPePUKPQ",
        "colab_type": "code",
        "outputId": "9b251b11-d6dc-4dcf-8748-d0b1b624c282",
        "colab": {
          "base_uri": "https://localhost:8080/",
          "height": 34
        }
      },
      "source": [
        "# replace course\n",
        "dict1[\"course\"]=\"c programming\"\n",
        "dict1"
      ],
      "execution_count": 0,
      "outputs": [
        {
          "output_type": "execute_result",
          "data": {
            "text/plain": [
              "{'address': 'srd', 'age': '20', 'course': 'c programming', 'name': 'nikhitha'}"
            ]
          },
          "metadata": {
            "tags": []
          },
          "execution_count": 52
        }
      ]
    },
    {
      "cell_type": "code",
      "metadata": {
        "id": "vZhh_sE8VpAn",
        "colab_type": "code",
        "outputId": "ffd3d90f-427f-4266-ec87-6425bbe11d73",
        "colab": {
          "base_uri": "https://localhost:8080/",
          "height": 34
        }
      },
      "source": [
        "# delete course\n",
        "del dict1[\"course\"]\n",
        "dict1"
      ],
      "execution_count": 0,
      "outputs": [
        {
          "output_type": "execute_result",
          "data": {
            "text/plain": [
              "{'address': 'srd', 'age': '20', 'name': 'nikhitha'}"
            ]
          },
          "metadata": {
            "tags": []
          },
          "execution_count": 53
        }
      ]
    },
    {
      "cell_type": "code",
      "metadata": {
        "id": "c5cc8KRTWAxQ",
        "colab_type": "code",
        "outputId": "00ddf5c7-f3a7-44e0-9b27-30423209a3f3",
        "colab": {
          "base_uri": "https://localhost:8080/",
          "height": 34
        }
      },
      "source": [
        "# keys of the function\n",
        "dict1.keys()"
      ],
      "execution_count": 0,
      "outputs": [
        {
          "output_type": "execute_result",
          "data": {
            "text/plain": [
              "dict_keys(['name', 'age', 'address'])"
            ]
          },
          "metadata": {
            "tags": []
          },
          "execution_count": 55
        }
      ]
    },
    {
      "cell_type": "code",
      "metadata": {
        "id": "4jkUKMpFWR2g",
        "colab_type": "code",
        "outputId": "46412d26-b9a0-4e6b-a2e8-44cb52ad545b",
        "colab": {
          "base_uri": "https://localhost:8080/",
          "height": 34
        }
      },
      "source": [
        "# values method\n",
        "dict1.values()"
      ],
      "execution_count": 0,
      "outputs": [
        {
          "output_type": "execute_result",
          "data": {
            "text/plain": [
              "dict_values(['nikhitha', '20', 'srd'])"
            ]
          },
          "metadata": {
            "tags": []
          },
          "execution_count": 56
        }
      ]
    },
    {
      "cell_type": "code",
      "metadata": {
        "id": "8NM0AJpuWi8P",
        "colab_type": "code",
        "outputId": "0346384d-459c-47ca-f1fb-1e84a62db238",
        "colab": {
          "base_uri": "https://localhost:8080/",
          "height": 34
        }
      },
      "source": [
        "# items method\n",
        "dict1.items()"
      ],
      "execution_count": 0,
      "outputs": [
        {
          "output_type": "execute_result",
          "data": {
            "text/plain": [
              "dict_items([('name', 'nikhitha'), ('age', '20'), ('address', 'srd')])"
            ]
          },
          "metadata": {
            "tags": []
          },
          "execution_count": 57
        }
      ]
    },
    {
      "cell_type": "code",
      "metadata": {
        "id": "4iinDG9KW4bk",
        "colab_type": "code",
        "outputId": "08fa76ec-4476-4a05-9d22-4b3cdde52559",
        "colab": {
          "base_uri": "https://localhost:8080/",
          "height": 68
        }
      },
      "source": [
        "# by using keys method\n",
        "dict1={\"name\":\"nikhitha\",\"age\":\"20\",\"address\":\"srd\"}\n",
        "for i in dict1.keys():\n",
        "  print(i,\"is\",dict1[i])\n"
      ],
      "execution_count": 0,
      "outputs": [
        {
          "output_type": "stream",
          "text": [
            "name is nikhitha\n",
            "age is 20\n",
            "address is srd\n"
          ],
          "name": "stdout"
        }
      ]
    },
    {
      "cell_type": "markdown",
      "metadata": {
        "id": "wT9UJsOtaIeJ",
        "colab_type": "text"
      },
      "source": [
        "# STRINGS\n",
        "   \n",
        "      strings are immutable\n",
        "\n",
        "\n",
        "\n",
        "\n"
      ]
    },
    {
      "cell_type": "code",
      "metadata": {
        "id": "DjIeRdTvZz__",
        "colab_type": "code",
        "outputId": "dca5c95e-6ef2-4270-a52e-e769ccde96a8",
        "colab": {
          "base_uri": "https://localhost:8080/",
          "height": 68
        }
      },
      "source": [
        "str1 = \"pythonprogramming123\"\n",
        "print(len(str1))\n",
        "print(max(str1))\n",
        "print(min(str1))"
      ],
      "execution_count": 0,
      "outputs": [
        {
          "output_type": "stream",
          "text": [
            "20\n",
            "y\n",
            "1\n"
          ],
          "name": "stdout"
        }
      ]
    },
    {
      "cell_type": "code",
      "metadata": {
        "id": "beWs2omSbO8B",
        "colab_type": "code",
        "outputId": "78b43fb3-a745-485d-95cb-5aedad0ef84c",
        "colab": {
          "base_uri": "https://localhost:8080/",
          "height": 34
        }
      },
      "source": [
        "ord('y')"
      ],
      "execution_count": 0,
      "outputs": [
        {
          "output_type": "execute_result",
          "data": {
            "text/plain": [
              "121"
            ]
          },
          "metadata": {
            "tags": []
          },
          "execution_count": 65
        }
      ]
    },
    {
      "cell_type": "code",
      "metadata": {
        "id": "qe_xmCEwcBZA",
        "colab_type": "code",
        "outputId": "c1931967-2534-4742-c58a-ab3882af272f",
        "colab": {
          "base_uri": "https://localhost:8080/",
          "height": 34
        }
      },
      "source": [
        "ord('1')"
      ],
      "execution_count": 0,
      "outputs": [
        {
          "output_type": "execute_result",
          "data": {
            "text/plain": [
              "49"
            ]
          },
          "metadata": {
            "tags": []
          },
          "execution_count": 66
        }
      ]
    },
    {
      "cell_type": "code",
      "metadata": {
        "id": "d9hPhH5EcFCv",
        "colab_type": "code",
        "outputId": "0909ebc6-f099-410d-fe54-bfe04553605b",
        "colab": {
          "base_uri": "https://localhost:8080/",
          "height": 34
        }
      },
      "source": [
        "ord('t')"
      ],
      "execution_count": 0,
      "outputs": [
        {
          "output_type": "execute_result",
          "data": {
            "text/plain": [
              "116"
            ]
          },
          "metadata": {
            "tags": []
          },
          "execution_count": 67
        }
      ]
    },
    {
      "cell_type": "code",
      "metadata": {
        "id": "DlLUClv7cHRw",
        "colab_type": "code",
        "outputId": "ba7ea974-c84b-45b2-bba7-19c72284c78f",
        "colab": {
          "base_uri": "https://localhost:8080/",
          "height": 34
        }
      },
      "source": [
        "ord(' ')"
      ],
      "execution_count": 0,
      "outputs": [
        {
          "output_type": "execute_result",
          "data": {
            "text/plain": [
              "32"
            ]
          },
          "metadata": {
            "tags": []
          },
          "execution_count": 68
        }
      ]
    },
    {
      "cell_type": "code",
      "metadata": {
        "id": "GtPjC8UGcQax",
        "colab_type": "code",
        "outputId": "3eab2c52-b48b-47f1-e253-09fdbe120f16",
        "colab": {
          "base_uri": "https://localhost:8080/",
          "height": 34
        }
      },
      "source": [
        "chr(97)"
      ],
      "execution_count": 0,
      "outputs": [
        {
          "output_type": "execute_result",
          "data": {
            "text/plain": [
              "'a'"
            ]
          },
          "metadata": {
            "tags": []
          },
          "execution_count": 69
        }
      ]
    },
    {
      "cell_type": "code",
      "metadata": {
        "id": "WBcXinI1ci1A",
        "colab_type": "code",
        "outputId": "40e06791-d297-419f-ca2e-c4b4bffdc0d6",
        "colab": {
          "base_uri": "https://localhost:8080/",
          "height": 34
        }
      },
      "source": [
        "str1.isalpha()"
      ],
      "execution_count": 0,
      "outputs": [
        {
          "output_type": "execute_result",
          "data": {
            "text/plain": [
              "False"
            ]
          },
          "metadata": {
            "tags": []
          },
          "execution_count": 70
        }
      ]
    },
    {
      "cell_type": "code",
      "metadata": {
        "id": "4ObTk1qzc0SA",
        "colab_type": "code",
        "outputId": "71d9166c-7d37-4995-e446-837521fe7aa3",
        "colab": {
          "base_uri": "https://localhost:8080/",
          "height": 34
        }
      },
      "source": [
        "str1.isdigit()"
      ],
      "execution_count": 0,
      "outputs": [
        {
          "output_type": "execute_result",
          "data": {
            "text/plain": [
              "False"
            ]
          },
          "metadata": {
            "tags": []
          },
          "execution_count": 71
        }
      ]
    },
    {
      "cell_type": "code",
      "metadata": {
        "id": "f2zGDlnmc-9T",
        "colab_type": "code",
        "outputId": "45b397ee-e8f7-4cc4-b3de-b609e968e321",
        "colab": {
          "base_uri": "https://localhost:8080/",
          "height": 34
        }
      },
      "source": [
        "str2 = \"123\"\n",
        "str2.isdigit()"
      ],
      "execution_count": 0,
      "outputs": [
        {
          "output_type": "execute_result",
          "data": {
            "text/plain": [
              "True"
            ]
          },
          "metadata": {
            "tags": []
          },
          "execution_count": 81
        }
      ]
    },
    {
      "cell_type": "code",
      "metadata": {
        "id": "ksA95nDzdNFg",
        "colab_type": "code",
        "outputId": "8f852ef4-b283-413f-d12e-560bea70d6ec",
        "colab": {
          "base_uri": "https://localhost:8080/",
          "height": 34
        }
      },
      "source": [
        "str2.isalnum()"
      ],
      "execution_count": 0,
      "outputs": [
        {
          "output_type": "execute_result",
          "data": {
            "text/plain": [
              "True"
            ]
          },
          "metadata": {
            "tags": []
          },
          "execution_count": 73
        }
      ]
    },
    {
      "cell_type": "code",
      "metadata": {
        "id": "orSqJDQEdUeQ",
        "colab_type": "code",
        "outputId": "789986f3-92a5-41a6-ce73-aad5bed86e07",
        "colab": {
          "base_uri": "https://localhost:8080/",
          "height": 34
        }
      },
      "source": [
        "str3 = \"python\"\n",
        "str3 = str3.upper()\n",
        "print(str3)"
      ],
      "execution_count": 0,
      "outputs": [
        {
          "output_type": "stream",
          "text": [
            "PYTHON\n"
          ],
          "name": "stdout"
        }
      ]
    },
    {
      "cell_type": "code",
      "metadata": {
        "id": "qyCh0yq1fKR_",
        "colab_type": "code",
        "colab": {}
      },
      "source": [
        "# islower and isupper method(boolean method)\n",
        "#islower()\n",
        "#isupper()"
      ],
      "execution_count": 0,
      "outputs": []
    },
    {
      "cell_type": "code",
      "metadata": {
        "id": "D9WapDJugHHf",
        "colab_type": "code",
        "outputId": "55f96773-d29b-46d3-f0d0-08ba3764a1bc",
        "colab": {
          "base_uri": "https://localhost:8080/",
          "height": 34
        }
      },
      "source": [
        "def digit_count(string):\n",
        "  sum = 0\n",
        "  for i in string:\n",
        "    if i.isdigit():\n",
        "      sum+=int(i)\n",
        "  return sum\n",
        "digit_count(\"application1889\")\n"
      ],
      "execution_count": 0,
      "outputs": [
        {
          "output_type": "execute_result",
          "data": {
            "text/plain": [
              "26"
            ]
          },
          "metadata": {
            "tags": []
          },
          "execution_count": 83
        }
      ]
    },
    {
      "cell_type": "code",
      "metadata": {
        "id": "HF4Oia0wkqef",
        "colab_type": "code",
        "colab": {}
      },
      "source": [
        ""
      ],
      "execution_count": 0,
      "outputs": []
    }
  ]
}